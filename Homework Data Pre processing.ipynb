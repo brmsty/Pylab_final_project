{
 "cells": [
  {
   "cell_type": "markdown",
   "metadata": {},
   "source": [
    "# Stage 2 Preprocessing"
   ]
  },
  {
   "cell_type": "code",
   "execution_count": 54,
   "metadata": {},
   "outputs": [],
   "source": [
    "# load necessary libraries\n",
    "import numpy as np\n",
    "import pandas as pd\n",
    "import matplotlib.pyplot as plt\n",
    "import seaborn as sns\n",
    "\n",
    "from scipy import stats\n",
    "from sklearn.preprocessing import MinMaxScaler, StandardScaler\n",
    "from imblearn.over_sampling import SMOTE\n",
    "\n",
    "import warnings\n",
    "warnings.filterwarnings('ignore')"
   ]
  },
  {
   "cell_type": "markdown",
   "metadata": {},
   "source": [
    "## Load Dataset"
   ]
  },
  {
   "cell_type": "code",
   "execution_count": 55,
   "metadata": {},
   "outputs": [
    {
     "data": {
      "text/html": [
       "<div>\n",
       "<style scoped>\n",
       "    .dataframe tbody tr th:only-of-type {\n",
       "        vertical-align: middle;\n",
       "    }\n",
       "\n",
       "    .dataframe tbody tr th {\n",
       "        vertical-align: top;\n",
       "    }\n",
       "\n",
       "    .dataframe thead th {\n",
       "        text-align: right;\n",
       "    }\n",
       "</style>\n",
       "<table border=\"1\" class=\"dataframe\">\n",
       "  <thead>\n",
       "    <tr style=\"text-align: right;\">\n",
       "      <th></th>\n",
       "      <th>CustomerID</th>\n",
       "      <th>ProdTaken</th>\n",
       "      <th>Age</th>\n",
       "      <th>TypeofContact</th>\n",
       "      <th>CityTier</th>\n",
       "      <th>DurationOfPitch</th>\n",
       "      <th>Occupation</th>\n",
       "      <th>Gender</th>\n",
       "      <th>NumberOfPersonVisiting</th>\n",
       "      <th>NumberOfFollowups</th>\n",
       "      <th>ProductPitched</th>\n",
       "      <th>PreferredPropertyStar</th>\n",
       "      <th>MaritalStatus</th>\n",
       "      <th>NumberOfTrips</th>\n",
       "      <th>Passport</th>\n",
       "      <th>PitchSatisfactionScore</th>\n",
       "      <th>OwnCar</th>\n",
       "      <th>NumberOfChildrenVisiting</th>\n",
       "      <th>Designation</th>\n",
       "      <th>MonthlyIncome</th>\n",
       "    </tr>\n",
       "  </thead>\n",
       "  <tbody>\n",
       "    <tr>\n",
       "      <th>0</th>\n",
       "      <td>200000</td>\n",
       "      <td>1</td>\n",
       "      <td>41.0</td>\n",
       "      <td>Self Enquiry</td>\n",
       "      <td>3</td>\n",
       "      <td>6.0</td>\n",
       "      <td>Salaried</td>\n",
       "      <td>Female</td>\n",
       "      <td>3</td>\n",
       "      <td>3.0</td>\n",
       "      <td>Deluxe</td>\n",
       "      <td>3.0</td>\n",
       "      <td>Single</td>\n",
       "      <td>1.0</td>\n",
       "      <td>1</td>\n",
       "      <td>2</td>\n",
       "      <td>1</td>\n",
       "      <td>0.0</td>\n",
       "      <td>Manager</td>\n",
       "      <td>20993.0</td>\n",
       "    </tr>\n",
       "    <tr>\n",
       "      <th>1</th>\n",
       "      <td>200001</td>\n",
       "      <td>0</td>\n",
       "      <td>49.0</td>\n",
       "      <td>Company Invited</td>\n",
       "      <td>1</td>\n",
       "      <td>14.0</td>\n",
       "      <td>Salaried</td>\n",
       "      <td>Male</td>\n",
       "      <td>3</td>\n",
       "      <td>4.0</td>\n",
       "      <td>Deluxe</td>\n",
       "      <td>4.0</td>\n",
       "      <td>Divorced</td>\n",
       "      <td>2.0</td>\n",
       "      <td>0</td>\n",
       "      <td>3</td>\n",
       "      <td>1</td>\n",
       "      <td>2.0</td>\n",
       "      <td>Manager</td>\n",
       "      <td>20130.0</td>\n",
       "    </tr>\n",
       "    <tr>\n",
       "      <th>2</th>\n",
       "      <td>200002</td>\n",
       "      <td>1</td>\n",
       "      <td>37.0</td>\n",
       "      <td>Self Enquiry</td>\n",
       "      <td>1</td>\n",
       "      <td>8.0</td>\n",
       "      <td>Free Lancer</td>\n",
       "      <td>Male</td>\n",
       "      <td>3</td>\n",
       "      <td>4.0</td>\n",
       "      <td>Basic</td>\n",
       "      <td>3.0</td>\n",
       "      <td>Single</td>\n",
       "      <td>7.0</td>\n",
       "      <td>1</td>\n",
       "      <td>3</td>\n",
       "      <td>0</td>\n",
       "      <td>0.0</td>\n",
       "      <td>Executive</td>\n",
       "      <td>17090.0</td>\n",
       "    </tr>\n",
       "    <tr>\n",
       "      <th>3</th>\n",
       "      <td>200003</td>\n",
       "      <td>0</td>\n",
       "      <td>33.0</td>\n",
       "      <td>Company Invited</td>\n",
       "      <td>1</td>\n",
       "      <td>9.0</td>\n",
       "      <td>Salaried</td>\n",
       "      <td>Female</td>\n",
       "      <td>2</td>\n",
       "      <td>3.0</td>\n",
       "      <td>Basic</td>\n",
       "      <td>3.0</td>\n",
       "      <td>Divorced</td>\n",
       "      <td>2.0</td>\n",
       "      <td>1</td>\n",
       "      <td>5</td>\n",
       "      <td>1</td>\n",
       "      <td>1.0</td>\n",
       "      <td>Executive</td>\n",
       "      <td>17909.0</td>\n",
       "    </tr>\n",
       "    <tr>\n",
       "      <th>4</th>\n",
       "      <td>200004</td>\n",
       "      <td>0</td>\n",
       "      <td>NaN</td>\n",
       "      <td>Self Enquiry</td>\n",
       "      <td>1</td>\n",
       "      <td>8.0</td>\n",
       "      <td>Small Business</td>\n",
       "      <td>Male</td>\n",
       "      <td>2</td>\n",
       "      <td>3.0</td>\n",
       "      <td>Basic</td>\n",
       "      <td>4.0</td>\n",
       "      <td>Divorced</td>\n",
       "      <td>1.0</td>\n",
       "      <td>0</td>\n",
       "      <td>5</td>\n",
       "      <td>1</td>\n",
       "      <td>0.0</td>\n",
       "      <td>Executive</td>\n",
       "      <td>18468.0</td>\n",
       "    </tr>\n",
       "  </tbody>\n",
       "</table>\n",
       "</div>"
      ],
      "text/plain": [
       "   CustomerID  ProdTaken   Age    TypeofContact  CityTier  DurationOfPitch  \\\n",
       "0      200000          1  41.0     Self Enquiry         3              6.0   \n",
       "1      200001          0  49.0  Company Invited         1             14.0   \n",
       "2      200002          1  37.0     Self Enquiry         1              8.0   \n",
       "3      200003          0  33.0  Company Invited         1              9.0   \n",
       "4      200004          0   NaN     Self Enquiry         1              8.0   \n",
       "\n",
       "       Occupation  Gender  NumberOfPersonVisiting  NumberOfFollowups  \\\n",
       "0        Salaried  Female                       3                3.0   \n",
       "1        Salaried    Male                       3                4.0   \n",
       "2     Free Lancer    Male                       3                4.0   \n",
       "3        Salaried  Female                       2                3.0   \n",
       "4  Small Business    Male                       2                3.0   \n",
       "\n",
       "  ProductPitched  PreferredPropertyStar MaritalStatus  NumberOfTrips  \\\n",
       "0         Deluxe                    3.0        Single            1.0   \n",
       "1         Deluxe                    4.0      Divorced            2.0   \n",
       "2          Basic                    3.0        Single            7.0   \n",
       "3          Basic                    3.0      Divorced            2.0   \n",
       "4          Basic                    4.0      Divorced            1.0   \n",
       "\n",
       "   Passport  PitchSatisfactionScore  OwnCar  NumberOfChildrenVisiting  \\\n",
       "0         1                       2       1                       0.0   \n",
       "1         0                       3       1                       2.0   \n",
       "2         1                       3       0                       0.0   \n",
       "3         1                       5       1                       1.0   \n",
       "4         0                       5       1                       0.0   \n",
       "\n",
       "  Designation  MonthlyIncome  \n",
       "0     Manager        20993.0  \n",
       "1     Manager        20130.0  \n",
       "2   Executive        17090.0  \n",
       "3   Executive        17909.0  \n",
       "4   Executive        18468.0  "
      ]
     },
     "execution_count": 55,
     "metadata": {},
     "output_type": "execute_result"
    }
   ],
   "source": [
    "# read file csv into dataframe\n",
    "df = pd.read_csv('Travel.csv')\n",
    "\n",
    "# view first 5 rows of data\n",
    "df.head()"
   ]
  },
  {
   "cell_type": "code",
   "execution_count": 56,
   "metadata": {},
   "outputs": [
    {
     "name": "stdout",
     "output_type": "stream",
     "text": [
      "<class 'pandas.core.frame.DataFrame'>\n",
      "RangeIndex: 4888 entries, 0 to 4887\n",
      "Data columns (total 20 columns):\n",
      " #   Column                    Non-Null Count  Dtype  \n",
      "---  ------                    --------------  -----  \n",
      " 0   CustomerID                4888 non-null   int64  \n",
      " 1   ProdTaken                 4888 non-null   int64  \n",
      " 2   Age                       4662 non-null   float64\n",
      " 3   TypeofContact             4863 non-null   object \n",
      " 4   CityTier                  4888 non-null   int64  \n",
      " 5   DurationOfPitch           4637 non-null   float64\n",
      " 6   Occupation                4888 non-null   object \n",
      " 7   Gender                    4888 non-null   object \n",
      " 8   NumberOfPersonVisiting    4888 non-null   int64  \n",
      " 9   NumberOfFollowups         4843 non-null   float64\n",
      " 10  ProductPitched            4888 non-null   object \n",
      " 11  PreferredPropertyStar     4862 non-null   float64\n",
      " 12  MaritalStatus             4888 non-null   object \n",
      " 13  NumberOfTrips             4748 non-null   float64\n",
      " 14  Passport                  4888 non-null   int64  \n",
      " 15  PitchSatisfactionScore    4888 non-null   int64  \n",
      " 16  OwnCar                    4888 non-null   int64  \n",
      " 17  NumberOfChildrenVisiting  4822 non-null   float64\n",
      " 18  Designation               4888 non-null   object \n",
      " 19  MonthlyIncome             4655 non-null   float64\n",
      "dtypes: float64(7), int64(7), object(6)\n",
      "memory usage: 763.9+ KB\n"
     ]
    }
   ],
   "source": [
    "# view info attributes and datatypes\n",
    "df.info()"
   ]
  },
  {
   "cell_type": "markdown",
   "metadata": {},
   "source": [
    "## EDA Conclusion"
   ]
  },
  {
   "cell_type": "markdown",
   "metadata": {},
   "source": [
    "Dari hasil EDA yang telah dilakukan sebelumnya diketahui bahwa :\n",
    "1. Nama kolom dan tipe data sudah sesuai, tetapi ada kesalahan data pada kolom `Gender` dan kesamaan makna data pada kolom `Marital Status`.\n",
    "2. Terdapat *missing values* pada kolom `Age`, `DurationOfPitch`, `NumberOfFollowups`, `PreferredPropertyStar`, `NumberOfTrips`, `NumberOfChildrenVisiting`, `MonthlyIncome`, dan `TypeofContact`.\n",
    "3. Terdapat outlier pada kolom `DurationOfPitch, NumberOfTrips, MonthlyIncome`.\n",
    "4. Telah ditemukan baris yang duplikat pada dataset yang digunakan.\n",
    "5. Kolom `CustomerID` bisa dihapus karena setiap baris memiliki customer id yang berbeda-beda.\n",
    "6. Kolom `ProdTaken` adalah target yang akan diprediksi.\n",
    "7. Kolom numerik yang terlihat memiliki korelasi terhadap target dapat digunakan sebagai fitur, yaitu `Age`, `MontlyIncome`, `NumberOfFollowups` dan `Passport`.\n",
    "8. Kolom `NumberOfPersonVisiting` dan `NumberOfChildrenVisiting` memiliki korelasi positif cukup kuat sehingga bisa digabung untuk menjadi fitur baru (`TotalVisiting`).\n",
    "9. Beberapa kolom numerik yang terlihat sama sekali tidak berkorelasi terdapat target dapat dihapus.\n",
    "10. Pada kolom kategorik bisa dimasukkan fitur, yaitu `TypeofContact`, `Occupation`, `Gender`, `ProductPitched`, `MaritalStatus`, dan `Designation`"
   ]
  },
  {
   "cell_type": "markdown",
   "metadata": {},
   "source": [
    "## Data Cleansing"
   ]
  },
  {
   "cell_type": "code",
   "execution_count": 57,
   "metadata": {},
   "outputs": [],
   "source": [
    "df_prep = df.copy()"
   ]
  },
  {
   "cell_type": "markdown",
   "metadata": {},
   "source": [
    "### Handling Inconsistent Data"
   ]
  },
  {
   "cell_type": "code",
   "execution_count": 58,
   "metadata": {},
   "outputs": [
    {
     "name": "stdout",
     "output_type": "stream",
     "text": [
      "Gender : ['Female', 'Male']\n",
      "Marital Status: ['Unmarried', 'Divorced', 'Married']\n"
     ]
    }
   ],
   "source": [
    "df_prep['Gender'] = df_prep['Gender'].replace('Fe Male', 'Female')\n",
    "df_prep['MaritalStatus'] = df_prep['MaritalStatus'].replace('Single', 'Unmarried')\n",
    "\n",
    "print('Gender :', df_prep['Gender'].unique().tolist())\n",
    "print('Marital Status:', df_prep['MaritalStatus'].unique().tolist())"
   ]
  },
  {
   "cell_type": "markdown",
   "metadata": {},
   "source": [
    "### Handling Missing Values"
   ]
  },
  {
   "cell_type": "code",
   "execution_count": 59,
   "metadata": {},
   "outputs": [
    {
     "data": {
      "text/plain": [
       "Age                         226\n",
       "TypeofContact                25\n",
       "DurationOfPitch             251\n",
       "NumberOfFollowups            45\n",
       "PreferredPropertyStar        26\n",
       "NumberOfTrips               140\n",
       "NumberOfChildrenVisiting     66\n",
       "MonthlyIncome               233\n",
       "dtype: int64"
      ]
     },
     "execution_count": 59,
     "metadata": {},
     "output_type": "execute_result"
    }
   ],
   "source": [
    "# counts missing data\n",
    "missing_cols = df_prep.columns[df_prep.isnull().any()]\n",
    "df_prep[missing_cols].isnull().sum()"
   ]
  },
  {
   "cell_type": "code",
   "execution_count": 60,
   "metadata": {},
   "outputs": [
    {
     "data": {
      "text/html": [
       "<div>\n",
       "<style scoped>\n",
       "    .dataframe tbody tr th:only-of-type {\n",
       "        vertical-align: middle;\n",
       "    }\n",
       "\n",
       "    .dataframe tbody tr th {\n",
       "        vertical-align: top;\n",
       "    }\n",
       "\n",
       "    .dataframe thead th {\n",
       "        text-align: right;\n",
       "    }\n",
       "</style>\n",
       "<table border=\"1\" class=\"dataframe\">\n",
       "  <thead>\n",
       "    <tr style=\"text-align: right;\">\n",
       "      <th></th>\n",
       "      <th>Age</th>\n",
       "      <th>DurationOfPitch</th>\n",
       "      <th>NumberOfFollowups</th>\n",
       "      <th>PreferredPropertyStar</th>\n",
       "      <th>NumberOfTrips</th>\n",
       "      <th>NumberOfChildrenVisiting</th>\n",
       "      <th>MonthlyIncome</th>\n",
       "    </tr>\n",
       "  </thead>\n",
       "  <tbody>\n",
       "    <tr>\n",
       "      <th>count</th>\n",
       "      <td>4662.000000</td>\n",
       "      <td>4637.000000</td>\n",
       "      <td>4843.000000</td>\n",
       "      <td>4862.000000</td>\n",
       "      <td>4748.000000</td>\n",
       "      <td>4822.000000</td>\n",
       "      <td>4655.000000</td>\n",
       "    </tr>\n",
       "    <tr>\n",
       "      <th>mean</th>\n",
       "      <td>37.622265</td>\n",
       "      <td>15.490835</td>\n",
       "      <td>3.708445</td>\n",
       "      <td>3.581037</td>\n",
       "      <td>3.236521</td>\n",
       "      <td>1.187267</td>\n",
       "      <td>23619.853491</td>\n",
       "    </tr>\n",
       "    <tr>\n",
       "      <th>std</th>\n",
       "      <td>9.316387</td>\n",
       "      <td>8.519643</td>\n",
       "      <td>1.002509</td>\n",
       "      <td>0.798009</td>\n",
       "      <td>1.849019</td>\n",
       "      <td>0.857861</td>\n",
       "      <td>5380.698361</td>\n",
       "    </tr>\n",
       "    <tr>\n",
       "      <th>min</th>\n",
       "      <td>18.000000</td>\n",
       "      <td>5.000000</td>\n",
       "      <td>1.000000</td>\n",
       "      <td>3.000000</td>\n",
       "      <td>1.000000</td>\n",
       "      <td>0.000000</td>\n",
       "      <td>1000.000000</td>\n",
       "    </tr>\n",
       "    <tr>\n",
       "      <th>25%</th>\n",
       "      <td>31.000000</td>\n",
       "      <td>9.000000</td>\n",
       "      <td>3.000000</td>\n",
       "      <td>3.000000</td>\n",
       "      <td>2.000000</td>\n",
       "      <td>1.000000</td>\n",
       "      <td>20346.000000</td>\n",
       "    </tr>\n",
       "    <tr>\n",
       "      <th>50%</th>\n",
       "      <td>36.000000</td>\n",
       "      <td>13.000000</td>\n",
       "      <td>4.000000</td>\n",
       "      <td>3.000000</td>\n",
       "      <td>3.000000</td>\n",
       "      <td>1.000000</td>\n",
       "      <td>22347.000000</td>\n",
       "    </tr>\n",
       "    <tr>\n",
       "      <th>75%</th>\n",
       "      <td>44.000000</td>\n",
       "      <td>20.000000</td>\n",
       "      <td>4.000000</td>\n",
       "      <td>4.000000</td>\n",
       "      <td>4.000000</td>\n",
       "      <td>2.000000</td>\n",
       "      <td>25571.000000</td>\n",
       "    </tr>\n",
       "    <tr>\n",
       "      <th>max</th>\n",
       "      <td>61.000000</td>\n",
       "      <td>127.000000</td>\n",
       "      <td>6.000000</td>\n",
       "      <td>5.000000</td>\n",
       "      <td>22.000000</td>\n",
       "      <td>3.000000</td>\n",
       "      <td>98678.000000</td>\n",
       "    </tr>\n",
       "  </tbody>\n",
       "</table>\n",
       "</div>"
      ],
      "text/plain": [
       "               Age  DurationOfPitch  NumberOfFollowups  PreferredPropertyStar  \\\n",
       "count  4662.000000      4637.000000        4843.000000            4862.000000   \n",
       "mean     37.622265        15.490835           3.708445               3.581037   \n",
       "std       9.316387         8.519643           1.002509               0.798009   \n",
       "min      18.000000         5.000000           1.000000               3.000000   \n",
       "25%      31.000000         9.000000           3.000000               3.000000   \n",
       "50%      36.000000        13.000000           4.000000               3.000000   \n",
       "75%      44.000000        20.000000           4.000000               4.000000   \n",
       "max      61.000000       127.000000           6.000000               5.000000   \n",
       "\n",
       "       NumberOfTrips  NumberOfChildrenVisiting  MonthlyIncome  \n",
       "count    4748.000000               4822.000000    4655.000000  \n",
       "mean        3.236521                  1.187267   23619.853491  \n",
       "std         1.849019                  0.857861    5380.698361  \n",
       "min         1.000000                  0.000000    1000.000000  \n",
       "25%         2.000000                  1.000000   20346.000000  \n",
       "50%         3.000000                  1.000000   22347.000000  \n",
       "75%         4.000000                  2.000000   25571.000000  \n",
       "max        22.000000                  3.000000   98678.000000  "
      ]
     },
     "execution_count": 60,
     "metadata": {},
     "output_type": "execute_result"
    }
   ],
   "source": [
    "# statistics on numerical columns (missing cols)\n",
    "df_prep[missing_cols].select_dtypes(exclude='object').describe()"
   ]
  },
  {
   "cell_type": "code",
   "execution_count": 61,
   "metadata": {},
   "outputs": [
    {
     "data": {
      "text/html": [
       "<div>\n",
       "<style scoped>\n",
       "    .dataframe tbody tr th:only-of-type {\n",
       "        vertical-align: middle;\n",
       "    }\n",
       "\n",
       "    .dataframe tbody tr th {\n",
       "        vertical-align: top;\n",
       "    }\n",
       "\n",
       "    .dataframe thead th {\n",
       "        text-align: right;\n",
       "    }\n",
       "</style>\n",
       "<table border=\"1\" class=\"dataframe\">\n",
       "  <thead>\n",
       "    <tr style=\"text-align: right;\">\n",
       "      <th></th>\n",
       "      <th>TypeofContact</th>\n",
       "    </tr>\n",
       "  </thead>\n",
       "  <tbody>\n",
       "    <tr>\n",
       "      <th>count</th>\n",
       "      <td>4863</td>\n",
       "    </tr>\n",
       "    <tr>\n",
       "      <th>unique</th>\n",
       "      <td>2</td>\n",
       "    </tr>\n",
       "    <tr>\n",
       "      <th>top</th>\n",
       "      <td>Self Enquiry</td>\n",
       "    </tr>\n",
       "    <tr>\n",
       "      <th>freq</th>\n",
       "      <td>3444</td>\n",
       "    </tr>\n",
       "  </tbody>\n",
       "</table>\n",
       "</div>"
      ],
      "text/plain": [
       "       TypeofContact\n",
       "count           4863\n",
       "unique             2\n",
       "top     Self Enquiry\n",
       "freq            3444"
      ]
     },
     "execution_count": 61,
     "metadata": {},
     "output_type": "execute_result"
    }
   ],
   "source": [
    "# statistics on categorical columns (missing cols)\n",
    "df_prep[missing_cols].select_dtypes(include='object').describe()"
   ]
  },
  {
   "cell_type": "markdown",
   "metadata": {},
   "source": [
    "Dari pengamatan yang sudah dilakukan saat EDA maka penanganan missing values yang digunakan, yaitu:\n",
    "- Kolom `Age` akan diisi dengan nilai mean (disribusi data mendekati normal).\n",
    "- Kolom `TypeofContact` akan diisi dengan nilai 'Unknown' (nilai modus sudah terlalu tinggi).\n",
    "- Kolom `DurationOfPitch` akan disi dengan nilai median (distribusi data mengandung outlier karena skewed).\n",
    "- Kolom `NumberOfFollowups` akan disi dengan nilai min (dianggap tidak ada follow up setelah pitching).\n",
    "- Kolom `PreferredPropertyStar` akan diisi dengan nilai 3 (nilai rating yang moderate).\n",
    "- Kolom `NumberOfTrips` akan disi dengan nilai median (distribusi data mengandung outlier karena skewed).\n",
    "- Kolom `NumberOfChildrenVisiting` akan diisi dengan nilai 0 (dianggap tidak memiliki anak dibawah 5 tahun).\n",
    "- Kolom `MonthlyIncome` akan disi dengan nilai median (distribusi data mengandung outlier karena skewed)."
   ]
  },
  {
   "cell_type": "code",
   "execution_count": 62,
   "metadata": {},
   "outputs": [],
   "source": [
    "# handling missing values\n",
    "df_prep['Age'].fillna(df_prep['Age'].mean(), inplace=True)\n",
    "df_prep['TypeofContact'].fillna('Unknown', inplace=True)\n",
    "df_prep['DurationOfPitch'].fillna(df_prep['DurationOfPitch'].median(), inplace=True)\n",
    "df_prep['NumberOfFollowups'].fillna(0, inplace=True)\n",
    "df_prep['PreferredPropertyStar'].fillna(3, inplace=True)\n",
    "df_prep['NumberOfTrips'].fillna(df_prep['NumberOfTrips'].median(), inplace=True)\n",
    "df_prep['NumberOfChildrenVisiting'].fillna(0, inplace=True)\n",
    "df_prep['MonthlyIncome'].fillna(df_prep['MonthlyIncome'].median(), inplace=True)"
   ]
  },
  {
   "cell_type": "code",
   "execution_count": 63,
   "metadata": {},
   "outputs": [
    {
     "name": "stdout",
     "output_type": "stream",
     "text": [
      "Apakah masih terdapat kolom dengan nilai null/missing values? False\n"
     ]
    }
   ],
   "source": [
    "# check again if any missing values\n",
    "print('Apakah masih terdapat kolom dengan nilai null/missing values?', df_prep.isnull().any().any())"
   ]
  },
  {
   "cell_type": "markdown",
   "metadata": {},
   "source": [
    "### Handling Duplicate Data"
   ]
  },
  {
   "cell_type": "code",
   "execution_count": 64,
   "metadata": {},
   "outputs": [
    {
     "name": "stdout",
     "output_type": "stream",
     "text": [
      "Jumlah baris sebelum difilter duplikat data adalah 4888\n",
      "Jumlah baris setelah difilter duplikat data adalah 4747\n"
     ]
    }
   ],
   "source": [
    "# remove CustomerID to see duplicate rows\n",
    "df_prep.drop('CustomerID', axis=1, inplace=True)\n",
    "print(f'Jumlah baris sebelum difilter duplikat data adalah {df_prep.shape[0]}')\n",
    "\n",
    "# remove duplicate rows\n",
    "df_prep.drop_duplicates(inplace=True)\n",
    "print(f'Jumlah baris setelah difilter duplikat data adalah {df_prep.shape[0]}')"
   ]
  },
  {
   "cell_type": "markdown",
   "metadata": {},
   "source": [
    "### Handling Outlier"
   ]
  },
  {
   "cell_type": "code",
   "execution_count": 65,
   "metadata": {},
   "outputs": [
    {
     "name": "stdout",
     "output_type": "stream",
     "text": [
      "Jumlah baris sebelum memfilter outlier adalah 4747\n",
      "Jumlah baris setelah memfilter outlier adalah 4737\n"
     ]
    }
   ],
   "source": [
    "# view total rows before filtered\n",
    "print(f'Jumlah baris sebelum memfilter outlier adalah {df_prep.shape[0]}')\n",
    "\n",
    "# handle outlier using z-score\n",
    "filtered_entries = np.array([True] * len(df_prep))\n",
    "skewed_cols = ['DurationOfPitch', 'NumberOfTrips', 'MonthlyIncome']\n",
    "for col in skewed_cols:\n",
    "    zscore = abs(stats.zscore(df_prep[col]))\n",
    "    filtered_entries = (zscore < 3) & filtered_entries    \n",
    "\n",
    "# view total rows after filtered\n",
    "df_prep = df_prep[filtered_entries]\n",
    "print(f'Jumlah baris setelah memfilter outlier adalah {df_prep.shape[0]}')"
   ]
  },
  {
   "cell_type": "markdown",
   "metadata": {},
   "source": [
    "### Feature Transformation"
   ]
  },
  {
   "cell_type": "code",
   "execution_count": 66,
   "metadata": {},
   "outputs": [
    {
     "data": {
      "image/png": "[encoded data removed]",
      "text/plain": [
       "<Figure size 720x432 with 4 Axes>"
      ]
     },
     "metadata": {
      "needs_background": "light"
     },
     "output_type": "display_data"
    }
   ],
   "source": [
    "# distribution of data before scaling\n",
    "plt.figure(figsize=(10, 6))\n",
    "for i, col in enumerate(['Age', 'DurationOfPitch', 'NumberOfTrips', 'MonthlyIncome']):\n",
    "    plt.subplot(2, 2, i+1)\n",
    "    sns.kdeplot(x=df_prep[col], color='indianred')\n",
    "    plt.xlabel(col)\n",
    "    plt.tight_layout()"
   ]
  },
  {
   "cell_type": "markdown",
   "metadata": {},
   "source": [
    "Berdasarkan hasil visualiasi tersebut, maka:\n",
    "- Kolom `Age` akan dilakukan scaling dengan Normalization karena mendekati distribusi normal.\n",
    "- Kolom `NumberOfTrips` tidak dilakukan scaling karena nilai datanya tidak terlalu variatif setelah dihandling outlier.\n",
    "- Kolom `DurationOfPitch` dan `MonthlyIncome` akan dilakukan scaling dengan Standardization karena sedikit skewed."
   ]
  },
  {
   "cell_type": "code",
   "execution_count": 67,
   "metadata": {},
   "outputs": [],
   "source": [
    "# scaling using normalization\n",
    "df_prep['Age'] = MinMaxScaler().fit_transform(df_prep['Age'].values.reshape(-1, 1))\n",
    "# scaling using standardization\n",
    "df_prep['DurationOfPitch'] = StandardScaler().fit_transform(df_prep['DurationOfPitch'].values.reshape(-1, 1))\n",
    "df_prep['MonthlyIncome'] = StandardScaler().fit_transform(df_prep['MonthlyIncome'].values.reshape(-1, 1))"
   ]
  },
  {
   "cell_type": "code",
   "execution_count": 68,
   "metadata": {},
   "outputs": [
    {
     "data": {
      "image/png": "[encoded data removed]",
      "text/plain": [
       "<Figure size 720x432 with 4 Axes>"
      ]
     },
     "metadata": {
      "needs_background": "light"
     },
     "output_type": "display_data"
    }
   ],
   "source": [
    "# distribution of data after scaling\n",
    "plt.figure(figsize=(10, 6))\n",
    "for i, col in enumerate(['Age', 'DurationOfPitch', 'NumberOfTrips', 'MonthlyIncome']):\n",
    "    plt.subplot(2, 2, i+1)\n",
    "    sns.kdeplot(x=df_prep[col], color='indianred')\n",
    "    plt.xlabel(col)\n",
    "    plt.tight_layout()"
   ]
  },
  {
   "cell_type": "code",
   "execution_count": 69,
   "metadata": {},
   "outputs": [
    {
     "data": {
      "text/html": [
       "<div>\n",
       "<style scoped>\n",
       "    .dataframe tbody tr th:only-of-type {\n",
       "        vertical-align: middle;\n",
       "    }\n",
       "\n",
       "    .dataframe tbody tr th {\n",
       "        vertical-align: top;\n",
       "    }\n",
       "\n",
       "    .dataframe thead th {\n",
       "        text-align: right;\n",
       "    }\n",
       "</style>\n",
       "<table border=\"1\" class=\"dataframe\">\n",
       "  <thead>\n",
       "    <tr style=\"text-align: right;\">\n",
       "      <th></th>\n",
       "      <th>Age</th>\n",
       "      <th>DurationOfPitch</th>\n",
       "      <th>NumberOfTrips</th>\n",
       "      <th>MonthlyIncome</th>\n",
       "    </tr>\n",
       "  </thead>\n",
       "  <tbody>\n",
       "    <tr>\n",
       "      <th>count</th>\n",
       "      <td>4737.000000</td>\n",
       "      <td>4.737000e+03</td>\n",
       "      <td>4737.000000</td>\n",
       "      <td>4.737000e+03</td>\n",
       "    </tr>\n",
       "    <tr>\n",
       "      <th>mean</th>\n",
       "      <td>0.455493</td>\n",
       "      <td>-1.145613e-16</td>\n",
       "      <td>3.211948</td>\n",
       "      <td>-1.453804e-15</td>\n",
       "    </tr>\n",
       "    <tr>\n",
       "      <th>std</th>\n",
       "      <td>0.212082</td>\n",
       "      <td>1.000106e+00</td>\n",
       "      <td>1.751640</td>\n",
       "      <td>1.000106e+00</td>\n",
       "    </tr>\n",
       "    <tr>\n",
       "      <th>min</th>\n",
       "      <td>0.000000</td>\n",
       "      <td>-1.289734e+00</td>\n",
       "      <td>1.000000</td>\n",
       "      <td>-1.494390e+00</td>\n",
       "    </tr>\n",
       "    <tr>\n",
       "      <th>25%</th>\n",
       "      <td>0.302326</td>\n",
       "      <td>-7.908081e-01</td>\n",
       "      <td>2.000000</td>\n",
       "      <td>-6.049141e-01</td>\n",
       "    </tr>\n",
       "    <tr>\n",
       "      <th>50%</th>\n",
       "      <td>0.441860</td>\n",
       "      <td>-2.918825e-01</td>\n",
       "      <td>3.000000</td>\n",
       "      <td>-2.340508e-01</td>\n",
       "    </tr>\n",
       "    <tr>\n",
       "      <th>75%</th>\n",
       "      <td>0.581395</td>\n",
       "      <td>4.565059e-01</td>\n",
       "      <td>4.000000</td>\n",
       "      <td>3.706653e-01</td>\n",
       "    </tr>\n",
       "    <tr>\n",
       "      <th>max</th>\n",
       "      <td>1.000000</td>\n",
       "      <td>2.576940e+00</td>\n",
       "      <td>8.000000</td>\n",
       "      <td>3.013241e+00</td>\n",
       "    </tr>\n",
       "  </tbody>\n",
       "</table>\n",
       "</div>"
      ],
      "text/plain": [
       "               Age  DurationOfPitch  NumberOfTrips  MonthlyIncome\n",
       "count  4737.000000     4.737000e+03    4737.000000   4.737000e+03\n",
       "mean      0.455493    -1.145613e-16       3.211948  -1.453804e-15\n",
       "std       0.212082     1.000106e+00       1.751640   1.000106e+00\n",
       "min       0.000000    -1.289734e+00       1.000000  -1.494390e+00\n",
       "25%       0.302326    -7.908081e-01       2.000000  -6.049141e-01\n",
       "50%       0.441860    -2.918825e-01       3.000000  -2.340508e-01\n",
       "75%       0.581395     4.565059e-01       4.000000   3.706653e-01\n",
       "max       1.000000     2.576940e+00       8.000000   3.013241e+00"
      ]
     },
     "execution_count": 69,
     "metadata": {},
     "output_type": "execute_result"
    }
   ],
   "source": [
    "# statistics data after transformation\n",
    "df_prep[['Age', 'DurationOfPitch', 'NumberOfTrips', 'MonthlyIncome']].describe()"
   ]
  },
  {
   "cell_type": "markdown",
   "metadata": {},
   "source": [
    "Dari hasil statistik tersebut diketahui bahwa:\n",
    "- Kolom `Age` memiliki nilai min = 0 dan nilai max = 0 setelah dilakukan normalisasi.\n",
    "- Kolom `NumberOfTrips` memiliki nilai min = 1 dan nilai max = 8 dianggap tidak terlalu variatif range datanya. \n",
    "- Kolom `DurationOfPitch` dan `MonthlyIncome` memiliki nilai mean = -1 dan nilai standar deviasi = 1 setelah dilakukan standardisasi"
   ]
  },
  {
   "cell_type": "markdown",
   "metadata": {},
   "source": [
    "### Feature Encoding"
   ]
  },
  {
   "cell_type": "code",
   "execution_count": 70,
   "metadata": {},
   "outputs": [
    {
     "name": "stdout",
     "output_type": "stream",
     "text": [
      "TypeofContact : ['Self Enquiry', 'Company Invited', 'Unknown']\n",
      "Self Enquiry       3346\n",
      "Company Invited    1366\n",
      "Unknown              25\n",
      "Name: TypeofContact, dtype: int64\n",
      "------------------------------------------\n",
      "Occupation : ['Salaried', 'Free Lancer', 'Small Business', 'Large Business']\n",
      "Salaried          2287\n",
      "Small Business    2028\n",
      "Large Business     420\n",
      "Free Lancer          2\n",
      "Name: Occupation, dtype: int64\n",
      "------------------------------------------\n",
      "Gender : ['Female', 'Male']\n",
      "Male      2829\n",
      "Female    1908\n",
      "Name: Gender, dtype: int64\n",
      "------------------------------------------\n",
      "ProductPitched : ['Deluxe', 'Basic', 'Standard', 'Super Deluxe', 'King']\n",
      "Basic           1794\n",
      "Deluxe          1680\n",
      "Standard         714\n",
      "Super Deluxe     324\n",
      "King             225\n",
      "Name: ProductPitched, dtype: int64\n",
      "------------------------------------------\n",
      "MaritalStatus : ['Unmarried', 'Divorced', 'Married']\n",
      "Married      2277\n",
      "Unmarried    1512\n",
      "Divorced      948\n",
      "Name: MaritalStatus, dtype: int64\n",
      "------------------------------------------\n",
      "Designation : ['Manager', 'Executive', 'Senior Manager', 'AVP', 'VP']\n",
      "Executive         1794\n",
      "Manager           1680\n",
      "Senior Manager     714\n",
      "AVP                324\n",
      "VP                 225\n",
      "Name: Designation, dtype: int64\n",
      "------------------------------------------\n"
     ]
    }
   ],
   "source": [
    "# view unique values on categorical columns\n",
    "for col in df_prep.select_dtypes(include='object').columns:\n",
    "    print(f'{col} : {df_prep[col].unique().tolist()}')\n",
    "    print(df_prep[col].value_counts())\n",
    "    print('------------------------------------------')"
   ]
  },
  {
   "cell_type": "markdown",
   "metadata": {},
   "source": [
    "Dari hasil tersebut maka dapat disimpulkan bahwa:\n",
    "- Pada kolom `Occupation` terlihat jumlah customer 'Free Lancer' terlalu sedikit sehingga dapat dihapus.\n",
    "- Kolom `Gender` memiliki *unique values* berjumlah 2 maka dapat dilakukan Label Encoding.\n",
    "- Kolom `ProductPitched` dan `Designation` memiliki *unique values* berjenis data ordinal maka dapat dilakukan Label Encoding.\n",
    "- Kolom `TypeofContact`, `Occupation`, dan `MaritalStatus` memiliki unique values lebih dari 2 dan tidak berjenis data ordinal sehingga dilakukan One Hot Encoding."
   ]
  },
  {
   "cell_type": "code",
   "execution_count": 71,
   "metadata": {},
   "outputs": [
    {
     "name": "stdout",
     "output_type": "stream",
     "text": [
      "Dimensi data sebelum encoding adalah 4735 baris dan 19 kolom\n",
      "Dimensi data setelah encoding adalah 4735 baris dan 25 kolom\n"
     ]
    }
   ],
   "source": [
    "# remove rows with Occupation is `Free Lancer`\n",
    "df_prep = df_prep[df_prep['Occupation']!='Free Lancer']\n",
    "\n",
    "# view dimension size of data before encoding\n",
    "print(f'Dimensi data sebelum encoding adalah {df_prep.shape[0]} baris dan {df_prep.shape[1]} kolom')\n",
    "\n",
    "# label encoding\n",
    "df_prep['Gender'] = df_prep['Gender'].map({'Female':0, 'Male':1})\n",
    "df_prep['ProductPitched'] = df_prep['ProductPitched'].map({'Basic':0, 'Standard':1, 'Deluxe':2,\n",
    "                                                           'Super Deluxe':3, 'King':4})\n",
    "df_prep['Designation'] = df_prep['Designation'].map({'Manager':0, 'Senior Manager':1, 'Executive':2,\n",
    "                                                     'AVP':3, 'VP':4})\n",
    "\n",
    "# one hot encoding\n",
    "for col in ['TypeofContact', 'Occupation', 'MaritalStatus']:\n",
    "    onehots = pd.get_dummies(df_prep[col], prefix=col)\n",
    "    df_prep = pd.concat([df_prep, onehots], axis=1)\n",
    "    df_prep.drop(columns=col, axis=1, inplace=True)\n",
    "    \n",
    "# view dimension size of data before encoding\n",
    "print(f'Dimensi data setelah encoding adalah {df_prep.shape[0]} baris dan {df_prep.shape[1]} kolom')"
   ]
  },
  {
   "cell_type": "markdown",
   "metadata": {},
   "source": [
    "### Handling Imbalance Class"
   ]
  },
  {
   "cell_type": "code",
   "execution_count": 72,
   "metadata": {},
   "outputs": [
    {
     "data": {
      "text/plain": [
       "0    3845\n",
       "1     890\n",
       "Name: ProdTaken, dtype: int64"
      ]
     },
     "execution_count": 72,
     "metadata": {},
     "output_type": "execute_result"
    }
   ],
   "source": [
    "# check proportion class before balancing\n",
    "df_prep['ProdTaken'].value_counts()"
   ]
  },
  {
   "cell_type": "code",
   "execution_count": 73,
   "metadata": {},
   "outputs": [
    {
     "name": "stdout",
     "output_type": "stream",
     "text": [
      "0    2684\n",
      "1    1342\n",
      "Name: ProdTaken, dtype: int64\n"
     ]
    }
   ],
   "source": [
    "from sklearn.model_selection import train_test_split\n",
    "\n",
    "# handling imbalance class\n",
    "X = df_prep.drop('ProdTaken', axis=1)\n",
    "y = df_prep['ProdTaken']\n",
    "\n",
    "X_train, X_test, y_train, y_test = train_test_split(X, y, test_size=0.3, random_state=42)\n",
    "X_smote, y_smote = SMOTE(0.5).fit_resample(X_train, y_train)\n",
    "\n",
    "# check proportion class after balancing\n",
    "print(y_smote.value_counts())"
   ]
  },
  {
   "cell_type": "markdown",
   "metadata": {},
   "source": [
    "## Feature Engineering"
   ]
  },
  {
   "cell_type": "markdown",
   "metadata": {},
   "source": [
    "### Feature Extraction"
   ]
  },
  {
   "cell_type": "code",
   "execution_count": 74,
   "metadata": {},
   "outputs": [
    {
     "name": "stdout",
     "output_type": "stream",
     "text": [
      "NumberOfPersonVisiting with NumberOfChildrenVisiting has correlation : 0.595\n",
      "ProductPitched with MonthlyIncome has correlation : 0.678\n",
      "TypeofContact_Company Invited with TypeofContact_Self Enquiry has correlation : -0.987\n",
      "Occupation_Salaried with Occupation_Small Business has correlation : -0.837\n",
      "MaritalStatus_Married with MaritalStatus_Unmarried has correlation : -0.659\n"
     ]
    }
   ],
   "source": [
    "# get correlation > +- 0.5\n",
    "df_corr = df_prep.corr().iloc[1:,1:]\n",
    "df_corr = df_corr.apply(lambda x: round(x, 3))\n",
    "dfcorr=[]\n",
    "for idx in df_corr.index:\n",
    "    for col in df_corr.columns:\n",
    "        dfcorr.append(idx +' with '+ col)\n",
    "        if (np.abs(df_corr.loc[idx, col]) > 0.5)  and (idx != col) and (col +' with '+idx) not in dfcorr:\n",
    "            print(f'{idx} with {col} has correlation : {df_corr.loc[idx, col]}')"
   ]
  },
  {
   "cell_type": "code",
   "execution_count": 75,
   "metadata": {
    "tags": []
   },
   "outputs": [],
   "source": [
    "# create new column for feature\n",
    "df_prep['TotalVisiting'] = df_prep['NumberOfPersonVisiting'] + df_prep['NumberOfChildrenVisiting']\n",
    "df_prep.drop(columns=['NumberOfPersonVisiting', 'NumberOfChildrenVisiting'], axis=1, inplace=True)"
   ]
  },
  {
   "cell_type": "markdown",
   "metadata": {},
   "source": [
    " ### Feature Selection"
   ]
  },
  {
   "cell_type": "code",
   "execution_count": 76,
   "metadata": {},
   "outputs": [
    {
     "data": {
      "text/plain": [
       "Age                             -0.142819\n",
       "CityTier                         0.088483\n",
       "DurationOfPitch                  0.080149\n",
       "Gender                           0.029351\n",
       "NumberOfFollowups                0.108264\n",
       "ProductPitched                  -0.218802\n",
       "PreferredPropertyStar            0.096755\n",
       "NumberOfTrips                    0.020386\n",
       "Passport                         0.261313\n",
       "PitchSatisfactionScore           0.051937\n",
       "OwnCar                          -0.010679\n",
       "Designation                      0.074768\n",
       "MonthlyIncome                   -0.130784\n",
       "TypeofContact_Company Invited    0.042052\n",
       "TypeofContact_Self Enquiry      -0.039811\n",
       "TypeofContact_Unknown           -0.012674\n",
       "Occupation_Large Business        0.070456\n",
       "Occupation_Salaried             -0.032312\n",
       "Occupation_Small Business       -0.007851\n",
       "MaritalStatus_Divorced          -0.073203\n",
       "MaritalStatus_Married           -0.123330\n",
       "MaritalStatus_Unmarried          0.195070\n",
       "TotalVisiting                    0.012477\n",
       "Name: ProdTaken, dtype: float64"
      ]
     },
     "execution_count": 76,
     "metadata": {},
     "output_type": "execute_result"
    }
   ],
   "source": [
    "# check correlation to target\n",
    "df_prep.corr()['ProdTaken'].iloc[1:]"
   ]
  },
  {
   "cell_type": "code",
   "execution_count": 77,
   "metadata": {},
   "outputs": [
    {
     "data": {
      "text/plain": [
       "['Age',\n",
       " 'NumberOfFollowups',\n",
       " 'ProductPitched',\n",
       " 'Passport',\n",
       " 'MonthlyIncome',\n",
       " 'MaritalStatus_Married',\n",
       " 'MaritalStatus_Unmarried']"
      ]
     },
     "execution_count": 77,
     "metadata": {},
     "output_type": "execute_result"
    }
   ],
   "source": [
    "# select features correlation > 0.1\n",
    "features_cols = []\n",
    "for i,val in enumerate(df_prep.corr()['ProdTaken'].iloc[1:]):\n",
    "    if np.abs(val) > 0.1:\n",
    "        features_cols.append(df_prep.iloc[:,1:].columns[i])\n",
    "features_cols"
   ]
  },
  {
   "cell_type": "code",
   "execution_count": 78,
   "metadata": {},
   "outputs": [
    {
     "data": {
      "text/html": [
       "<div>\n",
       "<style scoped>\n",
       "    .dataframe tbody tr th:only-of-type {\n",
       "        vertical-align: middle;\n",
       "    }\n",
       "\n",
       "    .dataframe tbody tr th {\n",
       "        vertical-align: top;\n",
       "    }\n",
       "\n",
       "    .dataframe thead th {\n",
       "        text-align: right;\n",
       "    }\n",
       "</style>\n",
       "<table border=\"1\" class=\"dataframe\">\n",
       "  <thead>\n",
       "    <tr style=\"text-align: right;\">\n",
       "      <th></th>\n",
       "      <th>Column</th>\n",
       "      <th>Hypothesis Result</th>\n",
       "    </tr>\n",
       "  </thead>\n",
       "  <tbody>\n",
       "    <tr>\n",
       "      <th>0</th>\n",
       "      <td>CityTier</td>\n",
       "      <td>Reject Null Hypothesis</td>\n",
       "    </tr>\n",
       "    <tr>\n",
       "      <th>1</th>\n",
       "      <td>Gender</td>\n",
       "      <td>Reject Null Hypothesis</td>\n",
       "    </tr>\n",
       "    <tr>\n",
       "      <th>2</th>\n",
       "      <td>NumberOfFollowups</td>\n",
       "      <td>Reject Null Hypothesis</td>\n",
       "    </tr>\n",
       "    <tr>\n",
       "      <th>3</th>\n",
       "      <td>ProductPitched</td>\n",
       "      <td>Reject Null Hypothesis</td>\n",
       "    </tr>\n",
       "    <tr>\n",
       "      <th>4</th>\n",
       "      <td>PreferredPropertyStar</td>\n",
       "      <td>Reject Null Hypothesis</td>\n",
       "    </tr>\n",
       "    <tr>\n",
       "      <th>5</th>\n",
       "      <td>Passport</td>\n",
       "      <td>Reject Null Hypothesis</td>\n",
       "    </tr>\n",
       "    <tr>\n",
       "      <th>6</th>\n",
       "      <td>PitchSatisfactionScore</td>\n",
       "      <td>Reject Null Hypothesis</td>\n",
       "    </tr>\n",
       "    <tr>\n",
       "      <th>7</th>\n",
       "      <td>OwnCar</td>\n",
       "      <td>Fail to Reject Null Hypothesis</td>\n",
       "    </tr>\n",
       "    <tr>\n",
       "      <th>8</th>\n",
       "      <td>Designation</td>\n",
       "      <td>Reject Null Hypothesis</td>\n",
       "    </tr>\n",
       "    <tr>\n",
       "      <th>9</th>\n",
       "      <td>TypeofContact_Company Invited</td>\n",
       "      <td>Reject Null Hypothesis</td>\n",
       "    </tr>\n",
       "    <tr>\n",
       "      <th>10</th>\n",
       "      <td>TypeofContact_Self Enquiry</td>\n",
       "      <td>Reject Null Hypothesis</td>\n",
       "    </tr>\n",
       "    <tr>\n",
       "      <th>11</th>\n",
       "      <td>TypeofContact_Unknown</td>\n",
       "      <td>Fail to Reject Null Hypothesis</td>\n",
       "    </tr>\n",
       "    <tr>\n",
       "      <th>12</th>\n",
       "      <td>Occupation_Large Business</td>\n",
       "      <td>Reject Null Hypothesis</td>\n",
       "    </tr>\n",
       "    <tr>\n",
       "      <th>13</th>\n",
       "      <td>Occupation_Salaried</td>\n",
       "      <td>Reject Null Hypothesis</td>\n",
       "    </tr>\n",
       "    <tr>\n",
       "      <th>14</th>\n",
       "      <td>Occupation_Small Business</td>\n",
       "      <td>Fail to Reject Null Hypothesis</td>\n",
       "    </tr>\n",
       "    <tr>\n",
       "      <th>15</th>\n",
       "      <td>MaritalStatus_Divorced</td>\n",
       "      <td>Reject Null Hypothesis</td>\n",
       "    </tr>\n",
       "    <tr>\n",
       "      <th>16</th>\n",
       "      <td>MaritalStatus_Married</td>\n",
       "      <td>Reject Null Hypothesis</td>\n",
       "    </tr>\n",
       "    <tr>\n",
       "      <th>17</th>\n",
       "      <td>MaritalStatus_Unmarried</td>\n",
       "      <td>Reject Null Hypothesis</td>\n",
       "    </tr>\n",
       "  </tbody>\n",
       "</table>\n",
       "</div>"
      ],
      "text/plain": [
       "                           Column               Hypothesis Result\n",
       "0                        CityTier          Reject Null Hypothesis\n",
       "1                          Gender          Reject Null Hypothesis\n",
       "2               NumberOfFollowups          Reject Null Hypothesis\n",
       "3                  ProductPitched          Reject Null Hypothesis\n",
       "4           PreferredPropertyStar          Reject Null Hypothesis\n",
       "5                        Passport          Reject Null Hypothesis\n",
       "6          PitchSatisfactionScore          Reject Null Hypothesis\n",
       "7                          OwnCar  Fail to Reject Null Hypothesis\n",
       "8                     Designation          Reject Null Hypothesis\n",
       "9   TypeofContact_Company Invited          Reject Null Hypothesis\n",
       "10     TypeofContact_Self Enquiry          Reject Null Hypothesis\n",
       "11          TypeofContact_Unknown  Fail to Reject Null Hypothesis\n",
       "12      Occupation_Large Business          Reject Null Hypothesis\n",
       "13            Occupation_Salaried          Reject Null Hypothesis\n",
       "14      Occupation_Small Business  Fail to Reject Null Hypothesis\n",
       "15         MaritalStatus_Divorced          Reject Null Hypothesis\n",
       "16          MaritalStatus_Married          Reject Null Hypothesis\n",
       "17        MaritalStatus_Unmarried          Reject Null Hypothesis"
      ]
     },
     "execution_count": 78,
     "metadata": {},
     "output_type": "execute_result"
    }
   ],
   "source": [
    "# select features with chi square test\n",
    "chi2_check = []\n",
    "check_cols = ['CityTier', 'Gender', 'NumberOfFollowups', 'ProductPitched', \n",
    "              'PreferredPropertyStar','Passport', 'PitchSatisfactionScore', 'OwnCar',\n",
    "              'Designation', 'TypeofContact_Company Invited',\n",
    "              'TypeofContact_Self Enquiry', 'TypeofContact_Unknown', \n",
    "              'Occupation_Large Business', 'Occupation_Salaried',\n",
    "              'Occupation_Small Business', 'MaritalStatus_Divorced',\n",
    "              'MaritalStatus_Married', 'MaritalStatus_Unmarried']\n",
    "for i in check_cols:\n",
    "    if stats.chi2_contingency(pd.crosstab(df_prep['ProdTaken'], df_prep[i]))[1] < 0.05:\n",
    "        chi2_check.append('Reject Null Hypothesis')\n",
    "    else:\n",
    "        chi2_check.append('Fail to Reject Null Hypothesis')\n",
    "result = pd.DataFrame(data=[check_cols, chi2_check]).T\n",
    "result.columns = ['Column', 'Hypothesis Result']\n",
    "result"
   ]
  },
  {
   "cell_type": "code",
   "execution_count": 79,
   "metadata": {},
   "outputs": [
    {
     "data": {
      "text/plain": [
       "['Age',\n",
       " 'NumberOfFollowups',\n",
       " 'ProductPitched',\n",
       " 'Passport',\n",
       " 'MonthlyIncome',\n",
       " 'MaritalStatus_Married',\n",
       " 'MaritalStatus_Unmarried',\n",
       " 'CityTier',\n",
       " 'Gender',\n",
       " 'PreferredPropertyStar',\n",
       " 'PitchSatisfactionScore',\n",
       " 'Designation',\n",
       " 'TypeofContact_Company Invited',\n",
       " 'TypeofContact_Self Enquiry',\n",
       " 'Occupation_Large Business',\n",
       " 'Occupation_Salaried',\n",
       " 'MaritalStatus_Divorced']"
      ]
     },
     "execution_count": 79,
     "metadata": {},
     "output_type": "execute_result"
    }
   ],
   "source": [
    "chi2_result = result[result['Hypothesis Result']=='Reject Null Hypothesis']['Column'].values.tolist()\n",
    "fix_cols = features_cols\n",
    "for col in chi2_result:\n",
    "    if col not in features_cols:\n",
    "        fix_cols.append(col)\n",
    "fix_cols"
   ]
  },
  {
   "cell_type": "markdown",
   "metadata": {},
   "source": [
    "4 Feature yang mungkin dapat ditambahkan jika terdapat datanya:\n",
    "- DayByTrips (Rata-rata lama liburan tiap perjalanan)\n",
    "- HistoryCancel (Berapa banyak perjalanan yang pernah dibatalkan)\n",
    "- Discount (Rata-rata diskon yang didapatkan tiap pembelian paket perjalanan)\n",
    "- Spending (Total pembelian paket selama setahun)"
   ]
  }
 ],
 "metadata": {
  "kernelspec": {
   "display_name": "Python 3 (ipykernel)",
   "language": "python",
   "name": "python3"
  },
  "language_info": {
   "codemirror_mode": {
    "name": "ipython",
    "version": 3
   },
   "file_extension": ".py",
   "mimetype": "text/x-python",
   "name": "python",
   "nbconvert_exporter": "python",
   "pygments_lexer": "ipython3",
   "version": "3.10.2"
  }
 },
 "nbformat": 4,
 "nbformat_minor": 4
}
